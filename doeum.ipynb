{
 "cells": [
  {
   "cell_type": "code",
   "id": "initial_id",
   "metadata": {
    "collapsed": true,
    "ExecuteTime": {
     "end_time": "2025-08-28T10:14:40.343158Z",
     "start_time": "2025-08-28T10:14:40.340157Z"
    }
   },
   "source": "import pandas as pd",
   "outputs": [],
   "execution_count": 2
  },
  {
   "metadata": {
    "ExecuteTime": {
     "end_time": "2025-08-28T10:15:02.803650Z",
     "start_time": "2025-08-28T10:15:02.300614Z"
    }
   },
   "cell_type": "code",
   "source": "df = pd.read_csv(\"./data/modified/concat/concat_minimal.csv\")",
   "id": "f81a5e1d59b25ef9",
   "outputs": [],
   "execution_count": 4
  },
  {
   "metadata": {
    "ExecuteTime": {
     "end_time": "2025-08-28T10:15:06.074901Z",
     "start_time": "2025-08-28T10:15:06.066402Z"
    }
   },
   "cell_type": "code",
   "source": "df",
   "id": "3842b27951a0ac22",
   "outputs": [
    {
     "data": {
      "text/plain": [
       "          어휘                                                뜻풀이 sw ew\n",
       "0         가가               주로 편지에서, 스스로 생각하여도 우습다는 뜻으로 이르는 말.\\n  가  가\n",
       "1       가가대소                                    소리를 내어 크게 웃음.\\n  가  소\n",
       "2        가가례                        각 집안에 따라 달리 행하는 예법·풍속 따위.\\n  가  례\n",
       "3       가가문전                                       집집마다의 문 앞.\\n  가  전\n",
       "4        가가방                                       ‘가겟방’의 원말.\\n  가  방\n",
       "...      ...                                                ... .. ..\n",
       "193132   ㄱ자홈  건물이나 기물을 만들 때, ‘ㄱ’ 자 모양의 촉을 끼우기 위하여 낸 홈. 나무나 돌...  ㄱ  홈\n",
       "193133   ㄷ자관               액체의 밀도나 비중을 비교하는 데 쓰는 ‘U’ 자 모양의 관.\\n  ㄷ  관\n",
       "193134   ㄷ자집                                 ‘ㄷ’ 자 모양으로 만든 집.\\n  ㄷ  집\n",
       "193135   ㄹ자집                                 ‘ㄹ’ 자 모양으로 만든 집.\\n  ㄹ  집\n",
       "193136   ㅁ자집                                 ‘ㅁ’ 자 모양으로 만든 집.\\n  ㅁ  집\n",
       "\n",
       "[193137 rows x 4 columns]"
      ],
      "text/html": [
       "<div>\n",
       "<style scoped>\n",
       "    .dataframe tbody tr th:only-of-type {\n",
       "        vertical-align: middle;\n",
       "    }\n",
       "\n",
       "    .dataframe tbody tr th {\n",
       "        vertical-align: top;\n",
       "    }\n",
       "\n",
       "    .dataframe thead th {\n",
       "        text-align: right;\n",
       "    }\n",
       "</style>\n",
       "<table border=\"1\" class=\"dataframe\">\n",
       "  <thead>\n",
       "    <tr style=\"text-align: right;\">\n",
       "      <th></th>\n",
       "      <th>어휘</th>\n",
       "      <th>뜻풀이</th>\n",
       "      <th>sw</th>\n",
       "      <th>ew</th>\n",
       "    </tr>\n",
       "  </thead>\n",
       "  <tbody>\n",
       "    <tr>\n",
       "      <th>0</th>\n",
       "      <td>가가</td>\n",
       "      <td>주로 편지에서, 스스로 생각하여도 우습다는 뜻으로 이르는 말.\\n</td>\n",
       "      <td>가</td>\n",
       "      <td>가</td>\n",
       "    </tr>\n",
       "    <tr>\n",
       "      <th>1</th>\n",
       "      <td>가가대소</td>\n",
       "      <td>소리를 내어 크게 웃음.\\n</td>\n",
       "      <td>가</td>\n",
       "      <td>소</td>\n",
       "    </tr>\n",
       "    <tr>\n",
       "      <th>2</th>\n",
       "      <td>가가례</td>\n",
       "      <td>각 집안에 따라 달리 행하는 예법·풍속 따위.\\n</td>\n",
       "      <td>가</td>\n",
       "      <td>례</td>\n",
       "    </tr>\n",
       "    <tr>\n",
       "      <th>3</th>\n",
       "      <td>가가문전</td>\n",
       "      <td>집집마다의 문 앞.\\n</td>\n",
       "      <td>가</td>\n",
       "      <td>전</td>\n",
       "    </tr>\n",
       "    <tr>\n",
       "      <th>4</th>\n",
       "      <td>가가방</td>\n",
       "      <td>‘가겟방’의 원말.\\n</td>\n",
       "      <td>가</td>\n",
       "      <td>방</td>\n",
       "    </tr>\n",
       "    <tr>\n",
       "      <th>...</th>\n",
       "      <td>...</td>\n",
       "      <td>...</td>\n",
       "      <td>...</td>\n",
       "      <td>...</td>\n",
       "    </tr>\n",
       "    <tr>\n",
       "      <th>193132</th>\n",
       "      <td>ㄱ자홈</td>\n",
       "      <td>건물이나 기물을 만들 때, ‘ㄱ’ 자 모양의 촉을 끼우기 위하여 낸 홈. 나무나 돌...</td>\n",
       "      <td>ㄱ</td>\n",
       "      <td>홈</td>\n",
       "    </tr>\n",
       "    <tr>\n",
       "      <th>193133</th>\n",
       "      <td>ㄷ자관</td>\n",
       "      <td>액체의 밀도나 비중을 비교하는 데 쓰는 ‘U’ 자 모양의 관.\\n</td>\n",
       "      <td>ㄷ</td>\n",
       "      <td>관</td>\n",
       "    </tr>\n",
       "    <tr>\n",
       "      <th>193134</th>\n",
       "      <td>ㄷ자집</td>\n",
       "      <td>‘ㄷ’ 자 모양으로 만든 집.\\n</td>\n",
       "      <td>ㄷ</td>\n",
       "      <td>집</td>\n",
       "    </tr>\n",
       "    <tr>\n",
       "      <th>193135</th>\n",
       "      <td>ㄹ자집</td>\n",
       "      <td>‘ㄹ’ 자 모양으로 만든 집.\\n</td>\n",
       "      <td>ㄹ</td>\n",
       "      <td>집</td>\n",
       "    </tr>\n",
       "    <tr>\n",
       "      <th>193136</th>\n",
       "      <td>ㅁ자집</td>\n",
       "      <td>‘ㅁ’ 자 모양으로 만든 집.\\n</td>\n",
       "      <td>ㅁ</td>\n",
       "      <td>집</td>\n",
       "    </tr>\n",
       "  </tbody>\n",
       "</table>\n",
       "<p>193137 rows × 4 columns</p>\n",
       "</div>"
      ]
     },
     "execution_count": 5,
     "metadata": {},
     "output_type": "execute_result"
    }
   ],
   "execution_count": 5
  },
  {
   "metadata": {
    "ExecuteTime": {
     "end_time": "2025-08-28T10:17:41.138419Z",
     "start_time": "2025-08-28T10:17:41.077922Z"
    }
   },
   "cell_type": "code",
   "source": [
    "replacement_map = {'녀': '여', '뇨': '요', '뉴': '유', '니': '이', }  \n",
    "df[['sw', 'ew']] = df[['sw', 'ew']].replace(replacement_map)"
   ],
   "id": "979e89136ce5f8e",
   "outputs": [],
   "execution_count": 6
  },
  {
   "metadata": {
    "ExecuteTime": {
     "end_time": "2025-08-28T10:18:40.192603Z",
     "start_time": "2025-08-28T10:18:40.114585Z"
    }
   },
   "cell_type": "code",
   "source": [
    "replacement_map = {'랴': '야', '려': '여', '례': '예', '료': '요', '류':\"유\",'리':'이'}  \n",
    "df[['sw', 'ew']] = df[['sw', 'ew']].replace(replacement_map)"
   ],
   "id": "3001589bef8ef8c2",
   "outputs": [],
   "execution_count": 7
  },
  {
   "metadata": {
    "ExecuteTime": {
     "end_time": "2025-08-28T10:19:45.790783Z",
     "start_time": "2025-08-28T10:19:45.713782Z"
    }
   },
   "cell_type": "code",
   "source": [
    "replacement_map = {'라': '나', '래': '내', '로': '노', '뢰': '뇌', '루':'누','르':'느'}  \n",
    "df[['sw', 'ew']] = df[['sw', 'ew']].replace(replacement_map)"
   ],
   "id": "b8bbaab4f66fb424",
   "outputs": [],
   "execution_count": 8
  },
  {
   "metadata": {
    "ExecuteTime": {
     "end_time": "2025-08-28T10:20:38.962741Z",
     "start_time": "2025-08-28T10:20:38.605742Z"
    }
   },
   "cell_type": "code",
   "source": [
    "output_file = \"./data/modified/doeum/doeum.csv\"\n",
    "df.to_csv(output_file, index=False, encoding='utf-8-sig')"
   ],
   "id": "df66ce30dc32b481",
   "outputs": [],
   "execution_count": 9
  }
 ],
 "metadata": {
  "kernelspec": {
   "display_name": "Python 3",
   "language": "python",
   "name": "python3"
  },
  "language_info": {
   "codemirror_mode": {
    "name": "ipython",
    "version": 2
   },
   "file_extension": ".py",
   "mimetype": "text/x-python",
   "name": "python",
   "nbconvert_exporter": "python",
   "pygments_lexer": "ipython2",
   "version": "2.7.6"
  }
 },
 "nbformat": 4,
 "nbformat_minor": 5
}
