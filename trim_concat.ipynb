{
 "cells": [
  {
   "cell_type": "code",
   "id": "initial_id",
   "metadata": {
    "collapsed": true,
    "ExecuteTime": {
     "end_time": "2025-08-27T15:02:59.461819Z",
     "start_time": "2025-08-27T15:02:59.228315Z"
    }
   },
   "source": "import pandas as pd",
   "outputs": [],
   "execution_count": 1
  },
  {
   "metadata": {
    "ExecuteTime": {
     "end_time": "2025-08-27T15:03:26.440667Z",
     "start_time": "2025-08-27T15:03:25.782638Z"
    }
   },
   "cell_type": "code",
   "source": [
    "input_file = \"./data/modified/concat/concat_full.csv\"\n",
    "df = pd.read_csv(input_file)"
   ],
   "id": "3c11deac17332b35",
   "outputs": [],
   "execution_count": 3
  },
  {
   "metadata": {
    "ExecuteTime": {
     "end_time": "2025-08-27T15:03:44.727565Z",
     "start_time": "2025-08-27T15:03:44.714568Z"
    }
   },
   "cell_type": "code",
   "source": "new_df = df.copy()",
   "id": "70e1681bdf179ffd",
   "outputs": [],
   "execution_count": 4
  },
  {
   "metadata": {
    "ExecuteTime": {
     "end_time": "2025-08-27T15:12:03.266072Z",
     "start_time": "2025-08-27T15:12:03.257573Z"
    }
   },
   "cell_type": "code",
   "source": "new_df = new_df.drop(columns=['구성 단위', '고유어 여부', '원어', '원어·어종', '품사'])",
   "id": "988c8ac9200195b4",
   "outputs": [],
   "execution_count": 9
  },
  {
   "metadata": {
    "ExecuteTime": {
     "end_time": "2025-08-27T15:12:05.796138Z",
     "start_time": "2025-08-27T15:12:05.788116Z"
    }
   },
   "cell_type": "code",
   "source": "nnd = new_df.copy()",
   "id": "f76cfe3cd6c39109",
   "outputs": [],
   "execution_count": 10
  },
  {
   "metadata": {
    "ExecuteTime": {
     "end_time": "2025-08-27T15:12:06.918197Z",
     "start_time": "2025-08-27T15:12:06.868193Z"
    }
   },
   "cell_type": "code",
   "source": [
    "word = nnd.columns[0]\n",
    "nnd['sw'] = nnd[word].str[0]"
   ],
   "id": "659b092a0f7dd65d",
   "outputs": [],
   "execution_count": 11
  },
  {
   "metadata": {
    "ExecuteTime": {
     "end_time": "2025-08-27T15:12:08.236781Z",
     "start_time": "2025-08-27T15:12:08.228278Z"
    }
   },
   "cell_type": "code",
   "source": "nnd",
   "id": "438652c3756d418",
   "outputs": [
    {
     "data": {
      "text/plain": [
       "          어휘                                                뜻풀이 sw\n",
       "0         가가               주로 편지에서, 스스로 생각하여도 우습다는 뜻으로 이르는 말.\\n  가\n",
       "1       가가대소                                    소리를 내어 크게 웃음.\\n  가\n",
       "2        가가례                        각 집안에 따라 달리 행하는 예법·풍속 따위.\\n  가\n",
       "3       가가문전                                       집집마다의 문 앞.\\n  가\n",
       "4        가가방                                       ‘가겟방’의 원말.\\n  가\n",
       "...      ...                                                ... ..\n",
       "193132   ㄱ자홈  건물이나 기물을 만들 때, ‘ㄱ’ 자 모양의 촉을 끼우기 위하여 낸 홈. 나무나 돌...  ㄱ\n",
       "193133   ㄷ자관               액체의 밀도나 비중을 비교하는 데 쓰는 ‘U’ 자 모양의 관.\\n  ㄷ\n",
       "193134   ㄷ자집                                 ‘ㄷ’ 자 모양으로 만든 집.\\n  ㄷ\n",
       "193135   ㄹ자집                                 ‘ㄹ’ 자 모양으로 만든 집.\\n  ㄹ\n",
       "193136   ㅁ자집                                 ‘ㅁ’ 자 모양으로 만든 집.\\n  ㅁ\n",
       "\n",
       "[193137 rows x 3 columns]"
      ],
      "text/html": [
       "<div>\n",
       "<style scoped>\n",
       "    .dataframe tbody tr th:only-of-type {\n",
       "        vertical-align: middle;\n",
       "    }\n",
       "\n",
       "    .dataframe tbody tr th {\n",
       "        vertical-align: top;\n",
       "    }\n",
       "\n",
       "    .dataframe thead th {\n",
       "        text-align: right;\n",
       "    }\n",
       "</style>\n",
       "<table border=\"1\" class=\"dataframe\">\n",
       "  <thead>\n",
       "    <tr style=\"text-align: right;\">\n",
       "      <th></th>\n",
       "      <th>어휘</th>\n",
       "      <th>뜻풀이</th>\n",
       "      <th>sw</th>\n",
       "    </tr>\n",
       "  </thead>\n",
       "  <tbody>\n",
       "    <tr>\n",
       "      <th>0</th>\n",
       "      <td>가가</td>\n",
       "      <td>주로 편지에서, 스스로 생각하여도 우습다는 뜻으로 이르는 말.\\n</td>\n",
       "      <td>가</td>\n",
       "    </tr>\n",
       "    <tr>\n",
       "      <th>1</th>\n",
       "      <td>가가대소</td>\n",
       "      <td>소리를 내어 크게 웃음.\\n</td>\n",
       "      <td>가</td>\n",
       "    </tr>\n",
       "    <tr>\n",
       "      <th>2</th>\n",
       "      <td>가가례</td>\n",
       "      <td>각 집안에 따라 달리 행하는 예법·풍속 따위.\\n</td>\n",
       "      <td>가</td>\n",
       "    </tr>\n",
       "    <tr>\n",
       "      <th>3</th>\n",
       "      <td>가가문전</td>\n",
       "      <td>집집마다의 문 앞.\\n</td>\n",
       "      <td>가</td>\n",
       "    </tr>\n",
       "    <tr>\n",
       "      <th>4</th>\n",
       "      <td>가가방</td>\n",
       "      <td>‘가겟방’의 원말.\\n</td>\n",
       "      <td>가</td>\n",
       "    </tr>\n",
       "    <tr>\n",
       "      <th>...</th>\n",
       "      <td>...</td>\n",
       "      <td>...</td>\n",
       "      <td>...</td>\n",
       "    </tr>\n",
       "    <tr>\n",
       "      <th>193132</th>\n",
       "      <td>ㄱ자홈</td>\n",
       "      <td>건물이나 기물을 만들 때, ‘ㄱ’ 자 모양의 촉을 끼우기 위하여 낸 홈. 나무나 돌...</td>\n",
       "      <td>ㄱ</td>\n",
       "    </tr>\n",
       "    <tr>\n",
       "      <th>193133</th>\n",
       "      <td>ㄷ자관</td>\n",
       "      <td>액체의 밀도나 비중을 비교하는 데 쓰는 ‘U’ 자 모양의 관.\\n</td>\n",
       "      <td>ㄷ</td>\n",
       "    </tr>\n",
       "    <tr>\n",
       "      <th>193134</th>\n",
       "      <td>ㄷ자집</td>\n",
       "      <td>‘ㄷ’ 자 모양으로 만든 집.\\n</td>\n",
       "      <td>ㄷ</td>\n",
       "    </tr>\n",
       "    <tr>\n",
       "      <th>193135</th>\n",
       "      <td>ㄹ자집</td>\n",
       "      <td>‘ㄹ’ 자 모양으로 만든 집.\\n</td>\n",
       "      <td>ㄹ</td>\n",
       "    </tr>\n",
       "    <tr>\n",
       "      <th>193136</th>\n",
       "      <td>ㅁ자집</td>\n",
       "      <td>‘ㅁ’ 자 모양으로 만든 집.\\n</td>\n",
       "      <td>ㅁ</td>\n",
       "    </tr>\n",
       "  </tbody>\n",
       "</table>\n",
       "<p>193137 rows × 3 columns</p>\n",
       "</div>"
      ]
     },
     "execution_count": 12,
     "metadata": {},
     "output_type": "execute_result"
    }
   ],
   "execution_count": 12
  },
  {
   "metadata": {
    "ExecuteTime": {
     "end_time": "2025-08-27T15:12:46.914095Z",
     "start_time": "2025-08-27T15:12:46.863080Z"
    }
   },
   "cell_type": "code",
   "source": "nnd[\"ew\"] = nnd[word].str[-1]",
   "id": "691da8a2300d7116",
   "outputs": [],
   "execution_count": 13
  },
  {
   "metadata": {
    "ExecuteTime": {
     "end_time": "2025-08-27T15:12:50.989905Z",
     "start_time": "2025-08-27T15:12:50.983901Z"
    }
   },
   "cell_type": "code",
   "source": "nnd",
   "id": "c20b69767d65ada3",
   "outputs": [
    {
     "data": {
      "text/plain": [
       "          어휘                                                뜻풀이 sw ew\n",
       "0         가가               주로 편지에서, 스스로 생각하여도 우습다는 뜻으로 이르는 말.\\n  가  가\n",
       "1       가가대소                                    소리를 내어 크게 웃음.\\n  가  소\n",
       "2        가가례                        각 집안에 따라 달리 행하는 예법·풍속 따위.\\n  가  례\n",
       "3       가가문전                                       집집마다의 문 앞.\\n  가  전\n",
       "4        가가방                                       ‘가겟방’의 원말.\\n  가  방\n",
       "...      ...                                                ... .. ..\n",
       "193132   ㄱ자홈  건물이나 기물을 만들 때, ‘ㄱ’ 자 모양의 촉을 끼우기 위하여 낸 홈. 나무나 돌...  ㄱ  홈\n",
       "193133   ㄷ자관               액체의 밀도나 비중을 비교하는 데 쓰는 ‘U’ 자 모양의 관.\\n  ㄷ  관\n",
       "193134   ㄷ자집                                 ‘ㄷ’ 자 모양으로 만든 집.\\n  ㄷ  집\n",
       "193135   ㄹ자집                                 ‘ㄹ’ 자 모양으로 만든 집.\\n  ㄹ  집\n",
       "193136   ㅁ자집                                 ‘ㅁ’ 자 모양으로 만든 집.\\n  ㅁ  집\n",
       "\n",
       "[193137 rows x 4 columns]"
      ],
      "text/html": [
       "<div>\n",
       "<style scoped>\n",
       "    .dataframe tbody tr th:only-of-type {\n",
       "        vertical-align: middle;\n",
       "    }\n",
       "\n",
       "    .dataframe tbody tr th {\n",
       "        vertical-align: top;\n",
       "    }\n",
       "\n",
       "    .dataframe thead th {\n",
       "        text-align: right;\n",
       "    }\n",
       "</style>\n",
       "<table border=\"1\" class=\"dataframe\">\n",
       "  <thead>\n",
       "    <tr style=\"text-align: right;\">\n",
       "      <th></th>\n",
       "      <th>어휘</th>\n",
       "      <th>뜻풀이</th>\n",
       "      <th>sw</th>\n",
       "      <th>ew</th>\n",
       "    </tr>\n",
       "  </thead>\n",
       "  <tbody>\n",
       "    <tr>\n",
       "      <th>0</th>\n",
       "      <td>가가</td>\n",
       "      <td>주로 편지에서, 스스로 생각하여도 우습다는 뜻으로 이르는 말.\\n</td>\n",
       "      <td>가</td>\n",
       "      <td>가</td>\n",
       "    </tr>\n",
       "    <tr>\n",
       "      <th>1</th>\n",
       "      <td>가가대소</td>\n",
       "      <td>소리를 내어 크게 웃음.\\n</td>\n",
       "      <td>가</td>\n",
       "      <td>소</td>\n",
       "    </tr>\n",
       "    <tr>\n",
       "      <th>2</th>\n",
       "      <td>가가례</td>\n",
       "      <td>각 집안에 따라 달리 행하는 예법·풍속 따위.\\n</td>\n",
       "      <td>가</td>\n",
       "      <td>례</td>\n",
       "    </tr>\n",
       "    <tr>\n",
       "      <th>3</th>\n",
       "      <td>가가문전</td>\n",
       "      <td>집집마다의 문 앞.\\n</td>\n",
       "      <td>가</td>\n",
       "      <td>전</td>\n",
       "    </tr>\n",
       "    <tr>\n",
       "      <th>4</th>\n",
       "      <td>가가방</td>\n",
       "      <td>‘가겟방’의 원말.\\n</td>\n",
       "      <td>가</td>\n",
       "      <td>방</td>\n",
       "    </tr>\n",
       "    <tr>\n",
       "      <th>...</th>\n",
       "      <td>...</td>\n",
       "      <td>...</td>\n",
       "      <td>...</td>\n",
       "      <td>...</td>\n",
       "    </tr>\n",
       "    <tr>\n",
       "      <th>193132</th>\n",
       "      <td>ㄱ자홈</td>\n",
       "      <td>건물이나 기물을 만들 때, ‘ㄱ’ 자 모양의 촉을 끼우기 위하여 낸 홈. 나무나 돌...</td>\n",
       "      <td>ㄱ</td>\n",
       "      <td>홈</td>\n",
       "    </tr>\n",
       "    <tr>\n",
       "      <th>193133</th>\n",
       "      <td>ㄷ자관</td>\n",
       "      <td>액체의 밀도나 비중을 비교하는 데 쓰는 ‘U’ 자 모양의 관.\\n</td>\n",
       "      <td>ㄷ</td>\n",
       "      <td>관</td>\n",
       "    </tr>\n",
       "    <tr>\n",
       "      <th>193134</th>\n",
       "      <td>ㄷ자집</td>\n",
       "      <td>‘ㄷ’ 자 모양으로 만든 집.\\n</td>\n",
       "      <td>ㄷ</td>\n",
       "      <td>집</td>\n",
       "    </tr>\n",
       "    <tr>\n",
       "      <th>193135</th>\n",
       "      <td>ㄹ자집</td>\n",
       "      <td>‘ㄹ’ 자 모양으로 만든 집.\\n</td>\n",
       "      <td>ㄹ</td>\n",
       "      <td>집</td>\n",
       "    </tr>\n",
       "    <tr>\n",
       "      <th>193136</th>\n",
       "      <td>ㅁ자집</td>\n",
       "      <td>‘ㅁ’ 자 모양으로 만든 집.\\n</td>\n",
       "      <td>ㅁ</td>\n",
       "      <td>집</td>\n",
       "    </tr>\n",
       "  </tbody>\n",
       "</table>\n",
       "<p>193137 rows × 4 columns</p>\n",
       "</div>"
      ]
     },
     "execution_count": 14,
     "metadata": {},
     "output_type": "execute_result"
    }
   ],
   "execution_count": 14
  },
  {
   "metadata": {
    "ExecuteTime": {
     "end_time": "2025-08-27T15:13:41.199590Z",
     "start_time": "2025-08-27T15:13:40.670591Z"
    }
   },
   "cell_type": "code",
   "source": [
    "output_file = './data/modified/concat/concat_minimal.csv'\n",
    "nnd.to_csv(output_file, index=False, encoding='utf-8-sig')"
   ],
   "id": "db7b6a920267f3c5",
   "outputs": [],
   "execution_count": 15
  }
 ],
 "metadata": {
  "kernelspec": {
   "display_name": "Python 3",
   "language": "python",
   "name": "python3"
  },
  "language_info": {
   "codemirror_mode": {
    "name": "ipython",
    "version": 2
   },
   "file_extension": ".py",
   "mimetype": "text/x-python",
   "name": "python",
   "nbconvert_exporter": "python",
   "pygments_lexer": "ipython2",
   "version": "2.7.6"
  }
 },
 "nbformat": 4,
 "nbformat_minor": 5
}
